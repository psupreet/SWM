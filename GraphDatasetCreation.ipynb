{
 "cells": [
  {
   "cell_type": "code",
   "execution_count": null,
   "metadata": {},
   "outputs": [],
   "source": [
    "''' Connecting to graph Data base'''\n",
    "from py2neo import Graph\n",
    "\n",
    "graphConnection = Graph(password=\"Rajulaxmi0230\", bolt_port=11002, http_port=11001)"
   ]
  },
  {
   "cell_type": "code",
   "execution_count": null,
   "metadata": {},
   "outputs": [],
   "source": [
    "''' Building Cypher query statement to access data from Graph DataBase'''\n",
    "\n",
    "graphQuery = \"\"\"\n",
    "MATCH (l:LINK)\n",
    "RETURN l.id AS id,\n",
    "l.degree AS degree,\n",
    "l.closeness AS closeness,\n",
    "l.pagerank AS pagerank, \n",
    "l.betweenness AS betweeness,\n",
    "l.louvain AS louvain,\n",
    "l.community AS community,\n",
    "l.coefficientCluster AS clusterCommunity,\n",
    "l.connectedCommunity AS connectedCommunity,\n",
    "l.similarity AS similarity,\n",
    "l.trianglesCount AS trianglesCount\n",
    "\"\"\"\n",
    "''' Extracting graph data by utilizing graph query'''\n",
    "graphData = graphConnection.run(graphQuery)\n",
    "''' Creating a tabular dict from graph features'''\n",
    "graphDict = {}\n",
    "for data in graphData:\n",
    "    graphDict[data['id']] = {'degree': data['degree'],'closeness': data['closeness'], 'pagerank': data['pagerank'],'betweeness': data['betweeness'], 'louvain': data['louvain'],'community': data['community'],'clusterCommunity': data['clusterCommunity'],'connectedCommunity': data['connectedCommunity'],'similarity': data['similarity'],'trianglesCount': data['trianglesCount']}\n",
    "    \n",
    "#print(graphDict)"
   ]
  },
  {
   "cell_type": "code",
   "execution_count": null,
   "metadata": {},
   "outputs": [],
   "source": [
    "''' functions to add graph features to input dataset  ''' \n",
    "def add_degree(x):\n",
    "    return graphDict[x.split(\"'\")[1]]['degree']\n",
    "def add_closeness(x):\n",
    "    return graphDict[x.split(\"'\")[1]]['closeness']\n",
    "def add_pagerank(x):\n",
    "    return graphDict[x.split(\"'\")[1]]['pagerank']\n",
    "def add_betweeness(x):\n",
    "    return graphDict[x.split(\"'\")[1]]['betweeness']\n",
    "def add_louvain(x):\n",
    "    return str(graphDict[x.split(\"'\")[1]]['louvain']) \n",
    "def add_community(x):\n",
    "    return str(graphDict[x.split(\"'\")[1]]['community']) \n",
    "def add_clusterCommunity(x):\n",
    "    return str(graphDict[x.split(\"'\")[1]]['clusterCommunity']) \n",
    "def add_connectedCommunity(x):\n",
    "    return graphDict[x.split(\"'\")[1]]['connectedCommunity']\n",
    "def add_similarity(x):\n",
    "    return graphDict[x.split(\"'\")[1]]['similarity']\n",
    "def add_trianglesCount(x):\n",
    "    return graphDict[x.split(\"'\")[1]]['trianglesCount']"
   ]
  },
  {
   "cell_type": "code",
   "execution_count": null,
   "metadata": {},
   "outputs": [],
   "source": [
    "''' Addition of graph based features to exisiting raw features in a dataframe'''\n",
    "df = pd.read_csv(\"dataset.csv\")\n",
    "\n",
    "df = df.sample(frac=1).reset_index(drop=True)\n",
    "newDf = df.drop('Unnamed: 0', axis = 1)\n",
    "\n",
    "newDf['merchDegree'] = newDf.merchant.apply(add_degree)\n",
    "newDf['custDegree'] = newDf.customer.apply(add_degree)\n",
    "newDf['merchCloseness'] = newDf.merchant.apply(add_closeness)\n",
    "newDf['custCloseness'] = newDf.customer.apply(add_closeness)\n",
    "newDf['custPageRank'] = newDf.customer.apply(add_pagerank)\n",
    "newDf['merchPageRank'] = newDf.merchant.apply(add_pagerank)\n",
    "newDf['custBetweeness'] = newDf.customer.apply(add_betweeness)\n",
    "newDf['merchBetweeness'] = newDf.merchant.apply(add_betweeness)\n",
    "newDf['merchlouvain'] = newDf.merchant.apply(add_louvain)\n",
    "newDf['custlouvain'] = newDf.customer.apply(add_louvain)\n",
    "newDf['merchCommunity'] = newDf.merchant.apply(add_community)\n",
    "newDf['custCommunity'] = newDf.customer.apply(add_community)\n",
    "newDf['merchclusterCommunity'] = newDf.merchant.apply(add_clusterCommunity)\n",
    "newDf['custclusterCommunity'] = newDf.customer.apply(add_clusterCommunity)\n",
    "newDf['custConnectedCommunity'] = newDf.customer.apply(add_connectedCommunity)\n",
    "newDf['merchConnectedCommunity'] = newDf.merchant.apply(add_connectedCommunity)\n",
    "newDf['custSimilarity'] = newDf.customer.apply(add_similarity)\n",
    "newDf['merchSimilarity'] = newDf.merchant.apply(add_similarity)\n",
    "newDf['custTrianglesCount'] = newDf.customer.apply(add_trianglesCount)\n",
    "newDf['merchTrianglesCount'] = newDf.merchant.apply(add_trianglesCount)"
   ]
  },
  {
   "cell_type": "code",
   "execution_count": null,
   "metadata": {},
   "outputs": [],
   "source": [
    "newDf.head()"
   ]
  },
  {
   "cell_type": "code",
   "execution_count": null,
   "metadata": {},
   "outputs": [],
   "source": [
    "newDf.isnull().values.any()"
   ]
  },
  {
   "cell_type": "code",
   "execution_count": null,
   "metadata": {},
   "outputs": [],
   "source": [
    "newDf.to_csv(\"newDataset.csv\")"
   ]
  }
 ],
 "metadata": {
  "kernelspec": {
   "display_name": "Python 3",
   "language": "python",
   "name": "python3"
  },
  "language_info": {
   "codemirror_mode": {
    "name": "ipython",
    "version": 3
   },
   "file_extension": ".py",
   "mimetype": "text/x-python",
   "name": "python",
   "nbconvert_exporter": "python",
   "pygments_lexer": "ipython3",
   "version": "3.7.6"
  }
 },
 "nbformat": 4,
 "nbformat_minor": 4
}
